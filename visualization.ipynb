{
 "cells": [
  {
   "cell_type": "code",
   "execution_count": null,
   "id": "71ea4b99",
   "metadata": {},
   "outputs": [],
   "source": [
    "# %matplotlib notebook\n",
    "\n",
    "from source.DCTspectral import DCTspectral\n",
    "from source.FFTspectral import FFTspectral\n",
    "\n",
    "import numpy as np\n",
    "np.random.seed(0)\n",
    "np.set_printoptions(threshold=12)\n",
    "\n",
    "import matplotlib\n",
    "import matplotlib.pyplot as plt\n",
    "import matplotlib.animation as animation\n",
    "from IPython.display import HTML\n",
    "# matplotlib.use(\"Agg\")\n",
    "plt.rcParams['figure.figsize'] = [6, 6]\n",
    "# plt.rcParams[\"animation.embed_limit\"] = 50"
   ]
  },
  {
   "cell_type": "markdown",
   "id": "065dba06",
   "metadata": {},
   "source": [
    "# Initializing the spectral model"
   ]
  },
  {
   "cell_type": "code",
   "execution_count": null,
   "id": "76f26f17",
   "metadata": {},
   "outputs": [],
   "source": [
    "Lx=Ly=1\n",
    "Nx=Ny=512\n",
    "eps=0.005\n",
    "# eps = 4*0.0026*200/(2*np.sqrt(2)*np.arctanh(0.9)) * factor\n",
    "\n",
    "system = FFTspectral(Lx, Ly, Nx, Ny, eps, 'random')\n",
    "system.u = np.random.uniform(-1, 1, [Nx, Ny])\n",
    "# system.u = np.random.uniform(-.1, .1, [Nx, Ny])+.21\n",
    "# system.u = np.tanh(np.random.normal(size=[Nx, Ny]))\n",
    "# system.u = np.random.choice([-1,1],size=Nx*Ny).reshape([Nx,Ny])\n",
    "# system.step = system.step_method2\n",
    "\n",
    "I = system.u.sum()"
   ]
  },
  {
   "cell_type": "code",
   "execution_count": null,
   "id": "5b39ed2f",
   "metadata": {},
   "outputs": [],
   "source": [
    "img_fig = plt.figure(1)\n",
    "cnt_fig = plt.figure(2)\n",
    "img_axs = img_fig.add_subplot(111)\n",
    "cnt_axs = cnt_fig.add_subplot(111)\n",
    "\n",
    "# img_axs.set_title(\"Image\")\n",
    "img_txt = img_axs.text(0.02, -0.09, f\"Elapsed time: {system.t}\", verticalalignment='top')\n",
    "img_axs.set_xlabel(\"X\")\n",
    "img_axs.set_ylabel(\"Y\")\n",
    "\n",
    "# cnt_axs.set_title(\"Contour\")\n",
    "cnt_txt = cnt_axs.text(0.02, -0.09, f\"Elapsed time: {system.t}\", verticalalignment='top')\n",
    "cnt_axs.set_xlabel(\"X\")\n",
    "cnt_axs.set_ylabel(\"Y\")\n",
    "\n",
    "plt.close(\"all\")"
   ]
  },
  {
   "cell_type": "code",
   "execution_count": null,
   "id": "8a0ca158",
   "metadata": {
    "scrolled": true
   },
   "outputs": [],
   "source": [
    "cmap='gray'\n",
    "\n",
    "img = img_axs.imshow(system.u, extent=(0, Lx, 0, Ly), cmap=cmap, origin='lower', animated=True)\n",
    "def img_anim(i):\n",
    "    system.evolve(reps, dt, Nt)\n",
    "    img_txt.set_text(f\"Elapsed time: {system.t:.0f}\")\n",
    "    img.set_data(system.u)\n",
    "    return\n",
    "\n",
    "n=2\n",
    "levels=np.arange(-n,n)\n",
    "levels=np.array([np.tanh(c) for c in levels])\n",
    "# levels=[-0.9, -.45, -0.35, 0, 0.35, .45, 0.9]\n",
    "# levels=[-0.9, -0.35, 0, 0.35, 0.9]\n",
    "\n",
    "cnt_axs.contour(system.y, system.x, system.u, levels=levels, cmap='gray')\n",
    "\"\"\"Change between contour and contourf here and inside cnt_anim!\"\"\"\n",
    "\"\"\"countourf is usually similar to imshow, depending on the contours.\"\"\"\n",
    "\n",
    "def cnt_anim(i):\n",
    "    system.evolve(reps, dt, Nt)\n",
    "    cnt_axs.clear()\n",
    "    cnt_axs.contour(system.y, system.x, system.u, levels=levels, cmap='gray')\n",
    "    cnt_txt.set_text(f\"Elapsed t: {system.t:.5f}\")\n",
    "    return"
   ]
  },
  {
   "cell_type": "markdown",
   "id": "48cb6cc3",
   "metadata": {},
   "source": [
    "# Animation"
   ]
  },
  {
   "cell_type": "code",
   "execution_count": null,
   "id": "f02b6541",
   "metadata": {
    "scrolled": true
   },
   "outputs": [],
   "source": [
    "reps, dt, Nt, frames = 1, 1e-3, 1, 50\n",
    "\n",
    "# anim = animation.FuncAnimation(fig=cnt_fig, func=cnt_anim, frames=5)\n",
    "anim = animation.FuncAnimation(fig=img_fig, func=img_anim, frames=frames)\n",
    "\n",
    "HTML(anim.to_jshtml())"
   ]
  },
  {
   "cell_type": "markdown",
   "id": "30d89d39",
   "metadata": {},
   "source": [
    "# Monitoring $\\phi$"
   ]
  },
  {
   "cell_type": "code",
   "execution_count": null,
   "id": "de3f04a6",
   "metadata": {
    "scrolled": true
   },
   "outputs": [],
   "source": [
    "\"\"\"Press Ctrl+Return on this cell to monitor the concentrations\"\"\"\n",
    "temp = f\"Total: {system.u.size}\", f\"Above viable: {system.u[system.u>1].size}\", f\"Below viable: {system.u[system.u<-1].size}\"\n",
    "print(temp)\n",
    "\n",
    "print(f\"Mass variation, should be 0: {(system.u.sum()-I)/(Nx*Ny)}\")\n",
    "\n",
    "\"\"\"Normally the error is around the magnitude of the 64 bit float precision.\n",
    "In base 2 it normally is of the order of 2^-53\"\"\"\n",
    "print(f\"Error in log base 2: {np.log(np.abs((system.u.sum()-I)/(Nx*Ny)))/np.log(2)}\")"
   ]
  },
  {
   "cell_type": "code",
   "execution_count": null,
   "id": "7dd57210",
   "metadata": {
    "scrolled": true
   },
   "outputs": [],
   "source": [
    "histogram = plt.hist(system.u.flatten(), bins=int(Nx/8), density=True)"
   ]
  },
  {
   "cell_type": "markdown",
   "id": "134cb4c8",
   "metadata": {},
   "source": [
    "# Analysis of the Neumann boundary conditions\n",
    "\n",
    "In order to have\n",
    "$$\\int_{\\partial \\Omega} \\frac{\\partial \\phi}{\\partial n}ds = 0, $$\n",
    "we choose to set the differential of $\\phi$ in the normal direction on the borders to be zero as our boundary condition.\n",
    "Numerically this must be at least a close approximation.\n",
    "Namely that\n",
    "\n",
    "$$ \\frac{\\partial \\phi}{\\partial n} \\approx 0 $$ \n",
    "\n",
    "\n",
    "\n",
    "where $\\frac{\\partial \\phi}{\\partial n}$ is the partial derivative of the order parameter in the normal direction to the boundary.\n",
    "\n",
    "This approximation in closer to truth in our DCT spectral method rather than the FFT one."
   ]
  },
  {
   "cell_type": "code",
   "execution_count": null,
   "id": "e06a069d",
   "metadata": {},
   "outputs": [],
   "source": [
    "del_x = np.diff(system.u, axis=0)\n",
    "del_y = np.diff(system.u)\n",
    "print(\"L:\", del_x[0,:])\n",
    "print(\"R:\", del_x[-1,:])\n",
    "print(\"D:\", del_y[:,0])\n",
    "print(\"U:\", del_y[:,-1], '\\n')\n",
    "# system.u[0:2,:], system.u[-3:-1,:], system.u[:, 0:2], system.u[:, -3:-1]\n",
    "\n",
    "# Choose ord=1 or ord=2\n",
    "measure = lambda vec: np.linalg.norm(vec, ord=2)\n",
    "print(\"L:\", measure(del_x[0,:]), \"R:\", measure(del_x[-1,:]), \"D:\", measure(del_y[:,0]), \"U:\", measure(del_y[:,-1]))\n",
    "\n",
    "\"\"\"The actual sum, or integral, over the boundary of del phi del n:\"\"\"\n",
    "measure = lambda vec: np.sum(vec)\n",
    "print(\"L:\", measure(del_x[0,:]), \"R:\", measure(del_x[-1,:]), \"D:\", measure(del_y[:,0]), \"U:\", measure(del_y[:,-1]))"
   ]
  },
  {
   "cell_type": "code",
   "execution_count": null,
   "id": "5c08a4a4",
   "metadata": {
    "scrolled": true
   },
   "outputs": [],
   "source": [
    "plt.imshow(del_x, extent=(0, Lx, 0, Ly), cmap=cmap, origin='lower')\n",
    "plt.text(0.02, -0.09, f\"Elapsed time: {system.t:.5f}\")\n",
    "plt.show()"
   ]
  },
  {
   "cell_type": "code",
   "execution_count": null,
   "id": "06b8d0c1",
   "metadata": {
    "scrolled": true
   },
   "outputs": [],
   "source": [
    "plt.imshow(del_y, extent=(0, Lx, 0, Ly), cmap=cmap, origin='lower')\n",
    "plt.text(0.02, -0.09, f\"Elapsed time: {system.t:.5f}\")\n",
    "plt.show()"
   ]
  },
  {
   "cell_type": "code",
   "execution_count": null,
   "id": "62ef9dcf",
   "metadata": {
    "scrolled": true
   },
   "outputs": [],
   "source": [
    "del_x = np.diff(system.u, axis=0)\n",
    "del_y = np.diff(system.u)\n",
    "print(\"L:\", del_x[0,:])\n",
    "print(\"R:\", del_x[-1,:])\n",
    "print(\"D:\", del_y[:,0])\n",
    "print(\"U:\", del_y[:,-1], '\\n')\n",
    "# system.u[0:2,:], system.u[-3:-1,:], system.u[:, 0:2], system.u[:, -3:-1]\n",
    "\n",
    "# Choose ord=1 or ord=2\n",
    "measure = lambda vec: np.linalg.norm(vec, ord=2)\n",
    "print(\"L:\", measure(del_x[0,:]), \"R:\", measure(del_x[-1,:]), \"D:\", measure(del_y[:,0]), \"U:\", measure(del_y[:,-1]))\n",
    "\n",
    "\"\"\"The actual sum, or integral, over the boundary of del phi del n:\"\"\"\n",
    "measure = lambda vec: np.sum(vec)\n",
    "print(\"L:\", measure(del_x[0,:]), \"R:\", measure(del_x[-1,:]), \"D:\", measure(del_y[:,0]), \"U:\", measure(del_y[:,-1]))"
   ]
  },
  {
   "cell_type": "markdown",
   "id": "20277685",
   "metadata": {},
   "source": [
    "# Plotting $|k|^2$ in the wavelength domain.\n",
    "Normally\n",
    "$k_{pq} = 2 \\pi p/N_p \\vec{p} + 2 \\pi q/N_q \\vec{q}$\n",
    "for an interval of integers,\n",
    "which is what we do in our DCT method,\n",
    "but for FFT we include negative values for $p$ and $q$ in $k$,\n",
    "which are in fact redundant (conjugates) since the space domain is real-valued.\n",
    "\n",
    "$p$ and $q$ are the axes, they represent the coefficients of the matricial representation of $\\hat{\\phi}$.\n",
    "\n",
    "$\\hat{\\phi}_{pq}$ has therefore wavelength $k_{pq}$."
   ]
  },
  {
   "cell_type": "code",
   "execution_count": null,
   "id": "29485874",
   "metadata": {},
   "outputs": [],
   "source": [
    "plot = 0\n",
    "plt.xlabel(\"x interval\")\n",
    "\n",
    "if plot==1:\n",
    "    plt.contourf(system.y, system.x, system.k2**2, cmap=plt.cm.gray)\n",
    "elif plot==2:\n",
    "    plt.contour(system.y, system.x, system.k2**2, cmap=plt.cm.gray)\n",
    "else:\n",
    "    plt.imshow(system.k2**2, extent=(0,1,0,1), cmap=plt.cm.gray, origin='lower')\n",
    "plt.show()"
   ]
  },
  {
   "cell_type": "markdown",
   "id": "c5280d95",
   "metadata": {},
   "source": [
    "# Animation from data list"
   ]
  },
  {
   "cell_type": "code",
   "execution_count": null,
   "id": "b1d7643c",
   "metadata": {},
   "outputs": [],
   "source": [
    "\"\"\"Animation from list of data, each representing a frame\"\"\"\n",
    "\"\"\"Data here is the second order temporal derivative of self.u\"\"\"\n",
    "\n",
    "cmap='gray'\n",
    "\n",
    "temp = system.u\n",
    "past_u = system.u\n",
    "data = [(system.u - 2*past_u + temp)/dt**2]\n",
    "times = []\n",
    "\n",
    "img = img_axs.imshow(data, extent=(0, Lx, 0, Ly), cmap=cmap, origin='lower', animated=True)\n",
    "\n",
    "for i in range(0, frames):\n",
    "    temp = past_u\n",
    "    past_u = system.u\n",
    "    system.evolve(reps, dt, Nt)\n",
    "\n",
    "    data += [(system.u - 2*past_u + temp)/dt**2]\n",
    "    times += [system.t]\n",
    "\n",
    "def img_anim(i):\n",
    "    img.set_data(data[i])\n",
    "    img_txt.set_text(f\"Elapsed time: {times[i]}\")"
   ]
  }
 ],
 "metadata": {
  "kernelspec": {
   "display_name": "Python 3 (ipykernel)",
   "language": "python",
   "name": "python3"
  },
  "language_info": {
   "codemirror_mode": {
    "name": "ipython",
    "version": 3
   },
   "file_extension": ".py",
   "mimetype": "text/x-python",
   "name": "python",
   "nbconvert_exporter": "python",
   "pygments_lexer": "ipython3",
   "version": "3.9.7"
  }
 },
 "nbformat": 4,
 "nbformat_minor": 5
}
